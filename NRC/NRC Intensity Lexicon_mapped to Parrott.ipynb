{
 "cells": [
  {
   "cell_type": "code",
   "execution_count": 4,
   "id": "834a0f72-925a-4b69-9697-1770940092bd",
   "metadata": {},
   "outputs": [],
   "source": [
    "import pandas as pd\n",
    "import numpy as np\n",
    "from sklearn.metrics import accuracy_score, precision_recall_fscore_support\n",
    "import requests"
   ]
  },
  {
   "cell_type": "markdown",
   "id": "cca56c79-0b9b-4893-843f-a756cdba8ccb",
   "metadata": {},
   "source": [
    "## Predict the NRC emotion by using NRC Emotion Intensity Lexicon model"
   ]
  },
  {
   "cell_type": "markdown",
   "id": "b11ceec9-5113-4b8e-996b-9ead5d02d1b7",
   "metadata": {},
   "source": [
    "First, we used the NRC Emotion Intensity Lexicon from https://saifmohammad.com/WebPages/AffectIntensity.htm, which provides real-valued scores of intensity for eight basic emotions. In this model, we calculated the score of emotions in each text, rather than counting the frequency of emotions. This approach helps to eliminate unpredicted labels (like neutral) and improves accuracy. These scores represent the strength or intensity of the emotional association for each word, enabling a more nuanced analysis of text. "
   ]
  },
  {
   "cell_type": "code",
   "execution_count": 5,
   "id": "9f63ab0d-5422-4ef2-a803-7cc74435009b",
   "metadata": {},
   "outputs": [],
   "source": [
    "# Load the NRC Emotion Intensity Lexicon\n",
    "lexicon_path = \"https://raw.githubusercontent.com/SaraHoxha/emotion-detection-txa/nrc_emotion/NRC/NRC-Emotion-Intensity-Lexicon-v1.txt\"\n",
    "\n",
    "# Hàm tải tệp từ URL và load nội dung vào từ dữ liệu\n",
    "def load_nrc_lexicon(url):\n",
    "    lexicon = {}\n",
    "    response = requests.get(url)\n",
    "\n",
    "    if response.status_code == 200:\n",
    "        # Xử lý tệp từ dữ liệu trả về\n",
    "        for line in response.text.splitlines():\n",
    "            parts = line.strip().split('\\t')\n",
    "            if len(parts) == 3:\n",
    "                word, emotion, intensity = parts\n",
    "                intensity = float(intensity)\n",
    "                if word not in lexicon:\n",
    "                    lexicon[word] = {}\n",
    "                lexicon[word][emotion] = intensity\n",
    "        return lexicon\n",
    "nrc_lexicon = load_nrc_lexicon(lexicon_path)"
   ]
  },
  {
   "cell_type": "code",
   "execution_count": 6,
   "id": "9b6cfc8a-03ab-4a26-870b-3a016da03ab4",
   "metadata": {},
   "outputs": [],
   "source": [
    "# Predict emotion for each text\n",
    "def label_text(text, lexicon):\n",
    "    \n",
    "    # create the dict to store the score for each emotion\n",
    "    emotion_scores = {emotion: 0 for emotion in set(e for values in lexicon.values() for e in values)}\n",
    "    words = text.lower().split()\n",
    "    \n",
    "    # calculate the score of emotion based on lexicon\n",
    "    for word in words:\n",
    "        if word in lexicon:\n",
    "            for emotion, intensity in lexicon[word].items():\n",
    "                emotion_scores[emotion] += intensity\n",
    "                \n",
    "    # choose the emotion with the highest score\n",
    "    max_emotion = max(emotion_scores, key=emotion_scores.get)\n",
    "    return max_emotion"
   ]
  },
  {
   "cell_type": "markdown",
   "id": "b21686dd-16c5-4ea8-8e2a-a5620184a55b",
   "metadata": {},
   "source": [
    "## Convert to Parrott's emotion "
   ]
  },
  {
   "cell_type": "markdown",
   "id": "9f110cae-530c-4433-bf2d-e7f7ca436f50",
   "metadata": {},
   "source": [
    "After predicting the NRC labels, we mapped our results to Parrott's emotion categories based on the definitions provided in the groups listed at  https://en.wikipedia.org/wiki/Emotion_classification. This mapping was an attempt to align the NRC emotions with Parrott's emotions to observe their correspondence.\n",
    "In this approach, we highlighted some changes as below:\n",
    "1. In class \"anger\" in Parrott's emotion, there are two sub-emotions: \"eagerness\" and \"hope.\" These emotions share similar meanings with \"anticipation\" from the NRC lexicon, so we decided to convert it into \"joy.\"\n",
    "2. In class \"anger\" in Parrott's emotion, there is the \"disgust\" in this list, so we decided to convert it into \"anger\"\n",
    "3. In class \"love\" in Parrott's emotion, we added \"trust\" because it’s an important part of love. Trust helps build strong, loving relationships, so we included it under \"love\" to show how essential it is."
   ]
  },
  {
   "cell_type": "code",
   "execution_count": 7,
   "id": "31cd9c6a-9b52-43d5-b87a-5c23d5925cbe",
   "metadata": {},
   "outputs": [],
   "source": [
    "def map_nrc_to_parrott(nrc_emotion):\n",
    "    mapping = {\n",
    "        \"anger\": \"anger\",\n",
    "        \"anticipation\": \"joy\",  # convert Anticipation to Joy\n",
    "        \"disgust\": \"anger\",   # convert Disgust to Anger\n",
    "        \"fear\": \"fear\",\n",
    "        \"joy\": \"joy\",\n",
    "        \"sadness\": \"sadness\",\n",
    "        \"surprise\": \"surprise\",\n",
    "        \"trust\": \"love\",         # convert Trust to Love\n",
    "    }\n",
    "    return mapping.get(nrc_emotion, None)"
   ]
  },
  {
   "cell_type": "markdown",
   "id": "0729f06a-c84e-45b2-94ec-67d2cdcf76ed",
   "metadata": {},
   "source": [
    "## Calculate metrics"
   ]
  },
  {
   "cell_type": "markdown",
   "id": "81eda6ef-08df-411f-bf8a-c36b9e24c5a5",
   "metadata": {},
   "source": [
    "After having the emotion with 6 emotions, we implemented to calculate the metrics to compare 2 models together"
   ]
  },
  {
   "cell_type": "code",
   "execution_count": 8,
   "id": "aecf7e8d-ef41-464e-8258-728f1048236c",
   "metadata": {},
   "outputs": [],
   "source": [
    "# Calculate the metrics \n",
    "def calculate_metrics(y_true, y_pred):\n",
    "    accuracy = accuracy_score(y_true, y_pred)\n",
    "    precision, recall, f1, _ = precision_recall_fscore_support(y_true, y_pred, average='weighted')\n",
    "    return {'accuracy': accuracy, 'precision': precision, 'recall': recall,\n",
    "        'f1': f1}"
   ]
  },
  {
   "cell_type": "code",
   "execution_count": 9,
   "id": "b7d7b1b9-84ad-4ad7-9e7b-c4954c210612",
   "metadata": {},
   "outputs": [],
   "source": [
    "# Save the metrics to the result file\n",
    "def save_metrics_to_file(metrics, filename):\n",
    "    metrics_str = (f\"Accuracy: {metrics['accuracy']:.4f}\\n\"\n",
    "        f\"Precision: {metrics['precision']:.4f}\\n\"\n",
    "        f\"Recall: {metrics['recall']:.4f}\\n\"\n",
    "        f\"F1-Score: {metrics['f1']:.4f}\\n\")\n",
    "    with open(filename, 'w') as file:\n",
    "        file.write(metrics_str)"
   ]
  },
  {
   "cell_type": "markdown",
   "id": "728c0f73-ea2b-4063-90d0-1c81bcd936b1",
   "metadata": {},
   "source": [
    "# T5 dataset"
   ]
  },
  {
   "cell_type": "markdown",
   "id": "09dd63b4-0ca8-44b6-87de-79c31e816c75",
   "metadata": {},
   "source": [
    "In this section, we implemented the prediction to the t5 dataset"
   ]
  },
  {
   "cell_type": "code",
   "execution_count": 10,
   "id": "2f0d7435-ed31-4e3b-8a6d-179e622394dd",
   "metadata": {},
   "outputs": [],
   "source": [
    "# Import file\n",
    "t5_test = pd.read_csv('https://raw.githubusercontent.com/SaraHoxha/emotion-detection-txa/main/Model%20Implementation/data/test_t5.csv')"
   ]
  },
  {
   "cell_type": "code",
   "execution_count": 11,
   "id": "4f987bbc-b00e-440d-ae63-deb5ffd2e4c4",
   "metadata": {},
   "outputs": [],
   "source": [
    "# Predict label by NRC\n",
    "t5_test['label_nrc'] = t5_test['text'].apply(lambda x: label_text(x, nrc_lexicon))"
   ]
  },
  {
   "cell_type": "code",
   "execution_count": 12,
   "id": "72f6a06d-26de-4f68-9169-3c92849135be",
   "metadata": {},
   "outputs": [],
   "source": [
    "# Map the NRC's emotion label to the Parrott's emotion label\n",
    "t5_test['map_to_parrott'] = t5_test['label_nrc'].apply(map_nrc_to_parrott)"
   ]
  },
  {
   "cell_type": "code",
   "execution_count": 13,
   "id": "6541f787-c07d-44c4-86f4-65f702cbe141",
   "metadata": {},
   "outputs": [
    {
     "data": {
      "text/plain": [
       "map_to_parrott\n",
       "joy         9561\n",
       "love        8026\n",
       "anger       3038\n",
       "sadness     1911\n",
       "fear        1624\n",
       "surprise     314\n",
       "Name: count, dtype: int64"
      ]
     },
     "execution_count": 13,
     "metadata": {},
     "output_type": "execute_result"
    }
   ],
   "source": [
    "# Count the number of label after predicting\n",
    "t5_test['map_to_parrott'].value_counts()"
   ]
  },
  {
   "cell_type": "code",
   "execution_count": 14,
   "id": "002d8f8f-26cc-4977-89b3-52270590a385",
   "metadata": {},
   "outputs": [
    {
     "data": {
      "text/plain": [
       "{'accuracy': 0.31073792596224564,\n",
       " 'precision': 0.4444078627270496,\n",
       " 'recall': 0.31073792596224564,\n",
       " 'f1': 0.35573164860815665}"
      ]
     },
     "execution_count": 14,
     "metadata": {},
     "output_type": "execute_result"
    }
   ],
   "source": [
    "# Metrics \n",
    "y_true_t5 = t5_test['label']\n",
    "y_pred_t5 = t5_test['map_to_parrott']\n",
    "t5_metrics_map_to_parrott = calculate_metrics(y_true_t5, y_pred_t5)\n",
    "t5_metrics_map_to_parrott"
   ]
  },
  {
   "cell_type": "code",
   "execution_count": 24,
   "id": "162436e6-f53f-4a05-87bd-b06e96c9cb40",
   "metadata": {},
   "outputs": [],
   "source": [
    "save_metrics_to_file(t5_metrics_map_to_parrott, 't5_metrics_nrc.txt')"
   ]
  },
  {
   "cell_type": "code",
   "execution_count": 16,
   "id": "98d9b9a4-712b-4744-853d-f4cd667d61bd",
   "metadata": {},
   "outputs": [],
   "source": [
    "t5_test.to_csv('t5_NRC_intensity.csv')"
   ]
  },
  {
   "cell_type": "markdown",
   "id": "5a2a31d6-516e-42c5-a4b9-f0fa94134814",
   "metadata": {},
   "source": [
    "# Yangswei_85 dataset"
   ]
  },
  {
   "cell_type": "markdown",
   "id": "a9e31468-8b14-4d8c-b5a7-d3c9c4017f77",
   "metadata": {},
   "source": [
    "In this section, we implemented the prediction to the Yangswei_85 dataset"
   ]
  },
  {
   "cell_type": "code",
   "execution_count": 17,
   "id": "08b089a7-7d62-4a0c-89c1-ff08dffc7687",
   "metadata": {},
   "outputs": [],
   "source": [
    "# Import file\n",
    "yangswei_85_test = pd.read_csv('https://raw.githubusercontent.com/SaraHoxha/emotion-detection-txa/main/Model%20Implementation/data/test_yangswei_85.csv')"
   ]
  },
  {
   "cell_type": "code",
   "execution_count": 18,
   "id": "e5f9cf24-ed57-426c-8994-82203dcb6a12",
   "metadata": {},
   "outputs": [],
   "source": [
    "# Predict label by NRC\n",
    "yangswei_85_test['label_nrc'] = yangswei_85_test['text'].apply(lambda x: label_text(x, nrc_lexicon))"
   ]
  },
  {
   "cell_type": "code",
   "execution_count": 19,
   "id": "610d95bd-a263-4182-8a42-d96c51b7ee18",
   "metadata": {},
   "outputs": [],
   "source": [
    "# Map the NRC's emotion label to the Parrott's emotion label\n",
    "yangswei_85_test['map_to_parrott'] = yangswei_85_test['label_nrc'].apply(map_nrc_to_parrott)"
   ]
  },
  {
   "cell_type": "code",
   "execution_count": 20,
   "id": "b99d8051-bdcc-4439-acd5-2b21c23b7bdb",
   "metadata": {},
   "outputs": [
    {
     "data": {
      "text/plain": [
       "map_to_parrott\n",
       "joy         8644\n",
       "love        7146\n",
       "anger       2898\n",
       "sadness     1745\n",
       "fear        1536\n",
       "surprise     320\n",
       "Name: count, dtype: int64"
      ]
     },
     "execution_count": 20,
     "metadata": {},
     "output_type": "execute_result"
    }
   ],
   "source": [
    "# Count the number of label after predicting\n",
    "yangswei_85_test['map_to_parrott'].value_counts()"
   ]
  },
  {
   "cell_type": "code",
   "execution_count": 21,
   "id": "d820607d-4e63-4a85-a84e-5941374bf386",
   "metadata": {},
   "outputs": [
    {
     "data": {
      "text/plain": [
       "{'accuracy': 0.3315088160078963,\n",
       " 'precision': 0.5121049128639701,\n",
       " 'recall': 0.3315088160078963,\n",
       " 'f1': 0.3974974490104764}"
      ]
     },
     "execution_count": 21,
     "metadata": {},
     "output_type": "execute_result"
    }
   ],
   "source": [
    "# Metrics \n",
    "y_true_yangswei_85 = yangswei_85_test['label']\n",
    "y_pred_yangswei_85 = yangswei_85_test['map_to_parrott']\n",
    "yangswei_85_metrics_map_to_parrott = calculate_metrics(y_true_yangswei_85, y_pred_yangswei_85)\n",
    "yangswei_85_metrics_map_to_parrott"
   ]
  },
  {
   "cell_type": "code",
   "execution_count": 25,
   "id": "ade75123-3c71-432c-a6d4-19a0ceaa2a3b",
   "metadata": {},
   "outputs": [],
   "source": [
    "save_metrics_to_file(yangswei_85_metrics_map_to_parrott, 'yangswei_85_metrics_nrc.txt')"
   ]
  },
  {
   "cell_type": "code",
   "execution_count": 30,
   "id": "dcfcd0a5-8115-4c05-9346-4b53371e76c3",
   "metadata": {},
   "outputs": [],
   "source": [
    "yangswei_85_test.to_csv('yangswei_85_test_NRC_intensity.csv')"
   ]
  }
 ],
 "metadata": {
  "kernelspec": {
   "display_name": "Python 3 (ipykernel)",
   "language": "python",
   "name": "python3"
  },
  "language_info": {
   "codemirror_mode": {
    "name": "ipython",
    "version": 3
   },
   "file_extension": ".py",
   "mimetype": "text/x-python",
   "name": "python",
   "nbconvert_exporter": "python",
   "pygments_lexer": "ipython3",
   "version": "3.12.5"
  }
 },
 "nbformat": 4,
 "nbformat_minor": 5
}
