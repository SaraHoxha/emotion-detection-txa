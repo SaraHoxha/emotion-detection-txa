{
 "cells": [
  {
   "cell_type": "code",
   "execution_count": 1,
   "id": "395184e5-2860-4385-9361-3f8853cd7545",
   "metadata": {},
   "outputs": [],
   "source": [
    "import pandas as pd"
   ]
  },
  {
   "cell_type": "code",
   "execution_count": 2,
   "id": "858d0988-48fd-4214-a2aa-f00aa54ddc0a",
   "metadata": {},
   "outputs": [],
   "source": [
    "import numpy as np"
   ]
  },
  {
   "cell_type": "code",
   "execution_count": 4,
   "id": "ec38462f-1ca1-4666-bfa4-b578e5118536",
   "metadata": {},
   "outputs": [
    {
     "data": {
      "text/html": [
       "<div>\n",
       "<style scoped>\n",
       "    .dataframe tbody tr th:only-of-type {\n",
       "        vertical-align: middle;\n",
       "    }\n",
       "\n",
       "    .dataframe tbody tr th {\n",
       "        vertical-align: top;\n",
       "    }\n",
       "\n",
       "    .dataframe thead th {\n",
       "        text-align: right;\n",
       "    }\n",
       "</style>\n",
       "<table border=\"1\" class=\"dataframe\">\n",
       "  <thead>\n",
       "    <tr style=\"text-align: right;\">\n",
       "      <th></th>\n",
       "      <th>text</th>\n",
       "      <th>label</th>\n",
       "    </tr>\n",
       "  </thead>\n",
       "  <tbody>\n",
       "    <tr>\n",
       "      <th>0</th>\n",
       "      <td>RTO is the new war on the middle class don't f...</td>\n",
       "      <td>joy</td>\n",
       "    </tr>\n",
       "    <tr>\n",
       "      <th>1</th>\n",
       "      <td>How do you continue with life outside of work ...</td>\n",
       "      <td>joy</td>\n",
       "    </tr>\n",
       "    <tr>\n",
       "      <th>2</th>\n",
       "      <td>Very desperate for a job would you know a pers...</td>\n",
       "      <td>fear</td>\n",
       "    </tr>\n",
       "    <tr>\n",
       "      <th>3</th>\n",
       "      <td>What time do you start working most days quest...</td>\n",
       "      <td>joy</td>\n",
       "    </tr>\n",
       "    <tr>\n",
       "      <th>4</th>\n",
       "      <td>What are good job sites to find LEGIT remote w...</td>\n",
       "      <td>joy</td>\n",
       "    </tr>\n",
       "  </tbody>\n",
       "</table>\n",
       "</div>"
      ],
      "text/plain": [
       "                                                text label\n",
       "0  RTO is the new war on the middle class don't f...   joy\n",
       "1  How do you continue with life outside of work ...   joy\n",
       "2  Very desperate for a job would you know a pers...  fear\n",
       "3  What time do you start working most days quest...   joy\n",
       "4  What are good job sites to find LEGIT remote w...   joy"
      ]
     },
     "execution_count": 4,
     "metadata": {},
     "output_type": "execute_result"
    }
   ],
   "source": [
    "yangswei_85_test = pd.read_csv('test_yangswei_85.csv')\n",
    "\n",
    "yangswei_85_test.head()"
   ]
  },
  {
   "cell_type": "code",
   "execution_count": 5,
   "id": "5c54ff2f-ef1c-45e8-a3e1-d95402bca4b7",
   "metadata": {},
   "outputs": [],
   "source": [
    "lexicon_path = 'NRC-Emotion-Intensity-Lexicon-v1.txt'\n",
    "\n",
    "def load_nrc_lexicon(file_path):\n",
    "    lexicon = {}\n",
    "    with open(file_path, 'r') as f:\n",
    "        for line in f:\n",
    "            parts = line.strip().split('\\t')\n",
    "            if len(parts) == 3:\n",
    "                word, emotion, intensity = parts\n",
    "                intensity = float(intensity)\n",
    "                if word not in lexicon:\n",
    "                    lexicon[word] = {}\n",
    "                lexicon[word][emotion] = intensity\n",
    "    return lexicon\n",
    "nrc_lexicon = load_nrc_lexicon(lexicon_path)"
   ]
  },
  {
   "cell_type": "code",
   "execution_count": 6,
   "id": "577912cb-29f6-4ef6-9c86-0a222b46d9c6",
   "metadata": {},
   "outputs": [],
   "source": [
    "def label_text(text, lexicon):\n",
    "    \n",
    "    # create the dict to store the score for each emotion\n",
    "    emotion_scores = {emotion: 0 for emotion in set(e for values in lexicon.values() for e in values)}\n",
    "    words = text.lower().split()\n",
    "    \n",
    "    # calculate the score of emotion based on lexicon\n",
    "    for word in words:\n",
    "        if word in lexicon:\n",
    "            for emotion, intensity in lexicon[word].items():\n",
    "                emotion_scores[emotion] += intensity\n",
    "                \n",
    "    # choose the emotion with the highest score\n",
    "    max_emotion = max(emotion_scores, key=emotion_scores.get)\n",
    "    return max_emotion"
   ]
  },
  {
   "cell_type": "code",
   "execution_count": 7,
   "id": "151202a2-7aec-4395-9d51-a7aae89409ca",
   "metadata": {},
   "outputs": [
    {
     "data": {
      "text/html": [
       "<div>\n",
       "<style scoped>\n",
       "    .dataframe tbody tr th:only-of-type {\n",
       "        vertical-align: middle;\n",
       "    }\n",
       "\n",
       "    .dataframe tbody tr th {\n",
       "        vertical-align: top;\n",
       "    }\n",
       "\n",
       "    .dataframe thead th {\n",
       "        text-align: right;\n",
       "    }\n",
       "</style>\n",
       "<table border=\"1\" class=\"dataframe\">\n",
       "  <thead>\n",
       "    <tr style=\"text-align: right;\">\n",
       "      <th></th>\n",
       "      <th>text</th>\n",
       "      <th>label</th>\n",
       "      <th>label_nrc</th>\n",
       "    </tr>\n",
       "  </thead>\n",
       "  <tbody>\n",
       "    <tr>\n",
       "      <th>0</th>\n",
       "      <td>RTO is the new war on the middle class don't f...</td>\n",
       "      <td>joy</td>\n",
       "      <td>fear</td>\n",
       "    </tr>\n",
       "    <tr>\n",
       "      <th>1</th>\n",
       "      <td>How do you continue with life outside of work ...</td>\n",
       "      <td>joy</td>\n",
       "      <td>joy</td>\n",
       "    </tr>\n",
       "    <tr>\n",
       "      <th>2</th>\n",
       "      <td>Very desperate for a job would you know a pers...</td>\n",
       "      <td>fear</td>\n",
       "      <td>anticipation</td>\n",
       "    </tr>\n",
       "    <tr>\n",
       "      <th>3</th>\n",
       "      <td>What time do you start working most days quest...</td>\n",
       "      <td>joy</td>\n",
       "      <td>anticipation</td>\n",
       "    </tr>\n",
       "    <tr>\n",
       "      <th>4</th>\n",
       "      <td>What are good job sites to find LEGIT remote w...</td>\n",
       "      <td>joy</td>\n",
       "      <td>trust</td>\n",
       "    </tr>\n",
       "  </tbody>\n",
       "</table>\n",
       "</div>"
      ],
      "text/plain": [
       "                                                text label     label_nrc\n",
       "0  RTO is the new war on the middle class don't f...   joy          fear\n",
       "1  How do you continue with life outside of work ...   joy           joy\n",
       "2  Very desperate for a job would you know a pers...  fear  anticipation\n",
       "3  What time do you start working most days quest...   joy  anticipation\n",
       "4  What are good job sites to find LEGIT remote w...   joy         trust"
      ]
     },
     "execution_count": 7,
     "metadata": {},
     "output_type": "execute_result"
    }
   ],
   "source": [
    "# predict label by NRC\n",
    "yangswei_85_test['label_nrc'] = yangswei_85_test['text'].apply(lambda x: label_text(x, nrc_lexicon))\n",
    "\n",
    "yangswei_85_test.head()"
   ]
  },
  {
   "cell_type": "code",
   "execution_count": 8,
   "id": "a3f458c0-ef02-4e30-a2d0-e7562b4fc5a3",
   "metadata": {},
   "outputs": [],
   "source": [
    "yangswei_85_test.to_csv('yangswei_85_nrc_inten_test.csv')"
   ]
  },
  {
   "cell_type": "code",
   "execution_count": 9,
   "id": "857c07f9-5cd7-4ba7-804e-94cd392b7511",
   "metadata": {},
   "outputs": [
    {
     "data": {
      "text/plain": [
       "label_nrc\n",
       "trust           7154\n",
       "joy             5202\n",
       "anticipation    3451\n",
       "surprise        1928\n",
       "sadness         1730\n",
       "fear            1534\n",
       "anger            858\n",
       "disgust          432\n",
       "Name: count, dtype: int64"
      ]
     },
     "execution_count": 9,
     "metadata": {},
     "output_type": "execute_result"
    }
   ],
   "source": [
    "label_counts = yangswei_85_test['label_nrc'].value_counts()\n",
    "label_counts"
   ]
  },
  {
   "cell_type": "code",
   "execution_count": 13,
   "id": "a5505fc4-983f-48dd-9a01-6544c68eefe6",
   "metadata": {},
   "outputs": [
    {
     "name": "stdout",
     "output_type": "stream",
     "text": [
      "Metrics for NRC:\n",
      "Accuracy: 0.2145\n",
      "Precision: 0.5461\n",
      "Recall: 0.2145\n",
      "F1-Score: 0.3038\n"
     ]
    },
    {
     "name": "stderr",
     "output_type": "stream",
     "text": [
      "C:\\Users\\minhd\\AppData\\Local\\Programs\\Python\\Python312\\Lib\\site-packages\\sklearn\\metrics\\_classification.py:1531: UndefinedMetricWarning: Precision is ill-defined and being set to 0.0 in labels with no predicted samples. Use `zero_division` parameter to control this behavior.\n",
      "  _warn_prf(average, modifier, f\"{metric.capitalize()} is\", len(result))\n",
      "C:\\Users\\minhd\\AppData\\Local\\Programs\\Python\\Python312\\Lib\\site-packages\\sklearn\\metrics\\_classification.py:1531: UndefinedMetricWarning: Recall is ill-defined and being set to 0.0 in labels with no true samples. Use `zero_division` parameter to control this behavior.\n",
      "  _warn_prf(average, modifier, f\"{metric.capitalize()} is\", len(result))\n"
     ]
    }
   ],
   "source": [
    "from sklearn.metrics import accuracy_score, precision_recall_fscore_support\n",
    "y_true = yangswei_85_test['label']\n",
    "y_pred = yangswei_85_test['label_nrc']\n",
    "\n",
    "accuracy = accuracy_score(y_true, y_pred)\n",
    "precision, recall, f1, _ = precision_recall_fscore_support(y_true, y_pred, average='weighted')\n",
    "\n",
    "# show the results\n",
    "print(\"Metrics for NRC:\")\n",
    "print(f\"Accuracy: {accuracy:.4f}\")\n",
    "print(f\"Precision: {precision:.4f}\")\n",
    "print(f\"Recall: {recall:.4f}\")\n",
    "print(f\"F1-Score: {f1:.4f}\")"
   ]
  },
  {
   "cell_type": "code",
   "execution_count": null,
   "id": "6fb8509f-dcc7-4384-acf1-b7b80ee5c1c9",
   "metadata": {},
   "outputs": [],
   "source": []
  }
 ],
 "metadata": {
  "kernelspec": {
   "display_name": "Python 3 (ipykernel)",
   "language": "python",
   "name": "python3"
  },
  "language_info": {
   "codemirror_mode": {
    "name": "ipython",
    "version": 3
   },
   "file_extension": ".py",
   "mimetype": "text/x-python",
   "name": "python",
   "nbconvert_exporter": "python",
   "pygments_lexer": "ipython3",
   "version": "3.12.5"
  }
 },
 "nbformat": 4,
 "nbformat_minor": 5
}
