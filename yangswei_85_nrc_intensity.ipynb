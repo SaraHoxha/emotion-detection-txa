{
 "cells": [
  {
   "cell_type": "code",
   "execution_count": 22,
   "id": "395184e5-2860-4385-9361-3f8853cd7545",
   "metadata": {},
   "outputs": [],
   "source": [
    "import pandas as pd"
   ]
  },
  {
   "cell_type": "code",
   "execution_count": 23,
   "id": "858d0988-48fd-4214-a2aa-f00aa54ddc0a",
   "metadata": {},
   "outputs": [],
   "source": [
    "import numpy as np"
   ]
  },
  {
   "cell_type": "code",
   "execution_count": 24,
   "id": "ec38462f-1ca1-4666-bfa4-b578e5118536",
   "metadata": {},
   "outputs": [
    {
     "data": {
      "text/html": [
       "<div>\n",
       "<style scoped>\n",
       "    .dataframe tbody tr th:only-of-type {\n",
       "        vertical-align: middle;\n",
       "    }\n",
       "\n",
       "    .dataframe tbody tr th {\n",
       "        vertical-align: top;\n",
       "    }\n",
       "\n",
       "    .dataframe thead th {\n",
       "        text-align: right;\n",
       "    }\n",
       "</style>\n",
       "<table border=\"1\" class=\"dataframe\">\n",
       "  <thead>\n",
       "    <tr style=\"text-align: right;\">\n",
       "      <th></th>\n",
       "      <th>text</th>\n",
       "      <th>label</th>\n",
       "    </tr>\n",
       "  </thead>\n",
       "  <tbody>\n",
       "    <tr>\n",
       "      <th>0</th>\n",
       "      <td>RTO is the new war on the middle class don't f...</td>\n",
       "      <td>joy</td>\n",
       "    </tr>\n",
       "    <tr>\n",
       "      <th>1</th>\n",
       "      <td>How do you continue with life outside of work ...</td>\n",
       "      <td>joy</td>\n",
       "    </tr>\n",
       "    <tr>\n",
       "      <th>2</th>\n",
       "      <td>Very desperate for a job would you know a pers...</td>\n",
       "      <td>fear</td>\n",
       "    </tr>\n",
       "    <tr>\n",
       "      <th>3</th>\n",
       "      <td>What time do you start working most days quest...</td>\n",
       "      <td>joy</td>\n",
       "    </tr>\n",
       "    <tr>\n",
       "      <th>4</th>\n",
       "      <td>What are good job sites to find LEGIT remote w...</td>\n",
       "      <td>joy</td>\n",
       "    </tr>\n",
       "  </tbody>\n",
       "</table>\n",
       "</div>"
      ],
      "text/plain": [
       "                                                text label\n",
       "0  RTO is the new war on the middle class don't f...   joy\n",
       "1  How do you continue with life outside of work ...   joy\n",
       "2  Very desperate for a job would you know a pers...  fear\n",
       "3  What time do you start working most days quest...   joy\n",
       "4  What are good job sites to find LEGIT remote w...   joy"
      ]
     },
     "execution_count": 24,
     "metadata": {},
     "output_type": "execute_result"
    }
   ],
   "source": [
    "test_data_path = 'test_yangswei_85.csv'\n",
    "yangswei_85_test = pd.read_csv(test_data_path)\n",
    "\n",
    "yangswei_85_test.head()"
   ]
  },
  {
   "cell_type": "code",
   "execution_count": 25,
   "id": "5c54ff2f-ef1c-45e8-a3e1-d95402bca4b7",
   "metadata": {},
   "outputs": [],
   "source": [
    "lexicon_path = 'NRC-Emotion-Intensity-Lexicon-v1.txt'\n",
    "def label_text(text, lexicon):\n",
    "    \n",
    "    # create the dict to store the score for each emotion\n",
    "    emotion_scores = {emotion: 0 for emotion in set(e for values in lexicon.values() for e in values)}\n",
    "    words = text.lower().split()\n",
    "    \n",
    "    # calculate the score of emotion based on lexicon\n",
    "    for word in words:\n",
    "        if word in lexicon:\n",
    "            for emotion, intensity in lexicon[word].items():\n",
    "                emotion_scores[emotion] += intensity\n",
    "                \n",
    "    # choose the emotion with the highest score\n",
    "    max_emotion = max(emotion_scores, key=emotion_scores.get)\n",
    "    return max_emotion"
   ]
  },
  {
   "cell_type": "code",
   "execution_count": 26,
   "id": "151202a2-7aec-4395-9d51-a7aae89409ca",
   "metadata": {},
   "outputs": [
    {
     "data": {
      "text/html": [
       "<div>\n",
       "<style scoped>\n",
       "    .dataframe tbody tr th:only-of-type {\n",
       "        vertical-align: middle;\n",
       "    }\n",
       "\n",
       "    .dataframe tbody tr th {\n",
       "        vertical-align: top;\n",
       "    }\n",
       "\n",
       "    .dataframe thead th {\n",
       "        text-align: right;\n",
       "    }\n",
       "</style>\n",
       "<table border=\"1\" class=\"dataframe\">\n",
       "  <thead>\n",
       "    <tr style=\"text-align: right;\">\n",
       "      <th></th>\n",
       "      <th>text</th>\n",
       "      <th>label</th>\n",
       "      <th>label_nrc</th>\n",
       "    </tr>\n",
       "  </thead>\n",
       "  <tbody>\n",
       "    <tr>\n",
       "      <th>0</th>\n",
       "      <td>RTO is the new war on the middle class don't f...</td>\n",
       "      <td>joy</td>\n",
       "      <td>fear</td>\n",
       "    </tr>\n",
       "    <tr>\n",
       "      <th>1</th>\n",
       "      <td>How do you continue with life outside of work ...</td>\n",
       "      <td>joy</td>\n",
       "      <td>joy</td>\n",
       "    </tr>\n",
       "    <tr>\n",
       "      <th>2</th>\n",
       "      <td>Very desperate for a job would you know a pers...</td>\n",
       "      <td>fear</td>\n",
       "      <td>anticipation</td>\n",
       "    </tr>\n",
       "    <tr>\n",
       "      <th>3</th>\n",
       "      <td>What time do you start working most days quest...</td>\n",
       "      <td>joy</td>\n",
       "      <td>anticipation</td>\n",
       "    </tr>\n",
       "    <tr>\n",
       "      <th>4</th>\n",
       "      <td>What are good job sites to find LEGIT remote w...</td>\n",
       "      <td>joy</td>\n",
       "      <td>trust</td>\n",
       "    </tr>\n",
       "  </tbody>\n",
       "</table>\n",
       "</div>"
      ],
      "text/plain": [
       "                                                text label     label_nrc\n",
       "0  RTO is the new war on the middle class don't f...   joy          fear\n",
       "1  How do you continue with life outside of work ...   joy           joy\n",
       "2  Very desperate for a job would you know a pers...  fear  anticipation\n",
       "3  What time do you start working most days quest...   joy  anticipation\n",
       "4  What are good job sites to find LEGIT remote w...   joy         trust"
      ]
     },
     "execution_count": 26,
     "metadata": {},
     "output_type": "execute_result"
    }
   ],
   "source": [
    "# predict label by NRC\n",
    "yangswei_85_test['label_nrc'] = yangswei_85_test['text'].apply(lambda x: label_text(x, nrc_lexicon))\n",
    "\n",
    "yangswei_85_test.head()"
   ]
  },
  {
   "cell_type": "code",
   "execution_count": 27,
   "id": "a3f458c0-ef02-4e30-a2d0-e7562b4fc5a3",
   "metadata": {},
   "outputs": [],
   "source": [
    "yangswei_85_test.to_csv('yangswei_85_nrc_intensity_test.csv')"
   ]
  },
  {
   "cell_type": "code",
   "execution_count": 28,
   "id": "857c07f9-5cd7-4ba7-804e-94cd392b7511",
   "metadata": {},
   "outputs": [
    {
     "data": {
      "text/plain": [
       "label_nrc\n",
       "trust           7130\n",
       "joy             5190\n",
       "anticipation    5081\n",
       "sadness         1743\n",
       "fear            1535\n",
       "anger            856\n",
       "disgust          435\n",
       "surprise         319\n",
       "Name: count, dtype: int64"
      ]
     },
     "execution_count": 28,
     "metadata": {},
     "output_type": "execute_result"
    }
   ],
   "source": [
    "label_counts = yangswei_85_test['label_nrc'].value_counts()\n",
    "label_counts"
   ]
  },
  {
   "cell_type": "code",
   "execution_count": 29,
   "id": "0a0f9013-b6fc-43d3-a40e-0e8da550b0b4",
   "metadata": {},
   "outputs": [
    {
     "data": {
      "text/html": [
       "<div>\n",
       "<style scoped>\n",
       "    .dataframe tbody tr th:only-of-type {\n",
       "        vertical-align: middle;\n",
       "    }\n",
       "\n",
       "    .dataframe tbody tr th {\n",
       "        vertical-align: top;\n",
       "    }\n",
       "\n",
       "    .dataframe thead th {\n",
       "        text-align: right;\n",
       "    }\n",
       "</style>\n",
       "<table border=\"1\" class=\"dataframe\">\n",
       "  <thead>\n",
       "    <tr style=\"text-align: right;\">\n",
       "      <th></th>\n",
       "      <th>text</th>\n",
       "      <th>label</th>\n",
       "    </tr>\n",
       "  </thead>\n",
       "  <tbody>\n",
       "    <tr>\n",
       "      <th>0</th>\n",
       "      <td>How can i miss work if i work from home questi...</td>\n",
       "      <td>joy</td>\n",
       "    </tr>\n",
       "    <tr>\n",
       "      <th>1</th>\n",
       "      <td>How do you deal with being the only person in ...</td>\n",
       "      <td>sadness</td>\n",
       "    </tr>\n",
       "    <tr>\n",
       "      <th>2</th>\n",
       "      <td>I began my application to remote jobs yesterda...</td>\n",
       "      <td>joy</td>\n",
       "    </tr>\n",
       "    <tr>\n",
       "      <th>3</th>\n",
       "      <td>Anyone else question mine sit in the window si...</td>\n",
       "      <td>joy</td>\n",
       "    </tr>\n",
       "    <tr>\n",
       "      <th>4</th>\n",
       "      <td>What household chore did you get done today wh...</td>\n",
       "      <td>anger</td>\n",
       "    </tr>\n",
       "  </tbody>\n",
       "</table>\n",
       "</div>"
      ],
      "text/plain": [
       "                                                text    label\n",
       "0  How can i miss work if i work from home questi...      joy\n",
       "1  How do you deal with being the only person in ...  sadness\n",
       "2  I began my application to remote jobs yesterda...      joy\n",
       "3  Anyone else question mine sit in the window si...      joy\n",
       "4  What household chore did you get done today wh...    anger"
      ]
     },
     "execution_count": 29,
     "metadata": {},
     "output_type": "execute_result"
    }
   ],
   "source": [
    "data = 'train_yangswei_85.csv'\n",
    "yangswei_85_train = pd.read_csv(data)\n",
    "yangswei_85_train.head()"
   ]
  },
  {
   "cell_type": "code",
   "execution_count": 30,
   "id": "aa520f59-ba35-4edc-9ece-83668fbee0e1",
   "metadata": {},
   "outputs": [
    {
     "data": {
      "text/html": [
       "<div>\n",
       "<style scoped>\n",
       "    .dataframe tbody tr th:only-of-type {\n",
       "        vertical-align: middle;\n",
       "    }\n",
       "\n",
       "    .dataframe tbody tr th {\n",
       "        vertical-align: top;\n",
       "    }\n",
       "\n",
       "    .dataframe thead th {\n",
       "        text-align: right;\n",
       "    }\n",
       "</style>\n",
       "<table border=\"1\" class=\"dataframe\">\n",
       "  <thead>\n",
       "    <tr style=\"text-align: right;\">\n",
       "      <th></th>\n",
       "      <th>text</th>\n",
       "      <th>label</th>\n",
       "      <th>label_nrc</th>\n",
       "    </tr>\n",
       "  </thead>\n",
       "  <tbody>\n",
       "    <tr>\n",
       "      <th>0</th>\n",
       "      <td>How can i miss work if i work from home questi...</td>\n",
       "      <td>joy</td>\n",
       "      <td>sadness</td>\n",
       "    </tr>\n",
       "    <tr>\n",
       "      <th>1</th>\n",
       "      <td>How do you deal with being the only person in ...</td>\n",
       "      <td>sadness</td>\n",
       "      <td>anticipation</td>\n",
       "    </tr>\n",
       "    <tr>\n",
       "      <th>2</th>\n",
       "      <td>I began my application to remote jobs yesterda...</td>\n",
       "      <td>joy</td>\n",
       "      <td>anticipation</td>\n",
       "    </tr>\n",
       "    <tr>\n",
       "      <th>3</th>\n",
       "      <td>Anyone else question mine sit in the window si...</td>\n",
       "      <td>joy</td>\n",
       "      <td>joy</td>\n",
       "    </tr>\n",
       "    <tr>\n",
       "      <th>4</th>\n",
       "      <td>What household chore did you get done today wh...</td>\n",
       "      <td>anger</td>\n",
       "      <td>anticipation</td>\n",
       "    </tr>\n",
       "  </tbody>\n",
       "</table>\n",
       "</div>"
      ],
      "text/plain": [
       "                                                text    label     label_nrc\n",
       "0  How can i miss work if i work from home questi...      joy       sadness\n",
       "1  How do you deal with being the only person in ...  sadness  anticipation\n",
       "2  I began my application to remote jobs yesterda...      joy  anticipation\n",
       "3  Anyone else question mine sit in the window si...      joy           joy\n",
       "4  What household chore did you get done today wh...    anger  anticipation"
      ]
     },
     "execution_count": 30,
     "metadata": {},
     "output_type": "execute_result"
    }
   ],
   "source": [
    "# predict label nrc\n",
    "yangswei_85_train['label_nrc'] = yangswei_85_train['text'].apply(lambda x: label_text(x, nrc_lexicon))\n",
    "\n",
    "yangswei_85_train.head()"
   ]
  },
  {
   "cell_type": "code",
   "execution_count": 31,
   "id": "d54dab75-60c9-4066-93c5-bfe93de730b3",
   "metadata": {},
   "outputs": [],
   "source": [
    "yangswei_85_train.to_csv('yangwei_85_nrc_inten_train.csv')"
   ]
  },
  {
   "cell_type": "code",
   "execution_count": 32,
   "id": "2660dd40-3a70-464f-8786-5652d87dd2a2",
   "metadata": {},
   "outputs": [
    {
     "data": {
      "text/plain": [
       "label_nrc\n",
       "trust           28769\n",
       "joy             20990\n",
       "anticipation    19944\n",
       "sadness          6983\n",
       "fear             6006\n",
       "anger            3474\n",
       "disgust          1809\n",
       "surprise         1177\n",
       "Name: count, dtype: int64"
      ]
     },
     "execution_count": 32,
     "metadata": {},
     "output_type": "execute_result"
    }
   ],
   "source": [
    "label_counts_train = yangswei_85_train['label_nrc'].value_counts()\n",
    "label_counts_train"
   ]
  },
  {
   "cell_type": "code",
   "execution_count": null,
   "id": "390f5714-6244-4e35-96ea-72fa7303534a",
   "metadata": {},
   "outputs": [],
   "source": []
  }
 ],
 "metadata": {
  "kernelspec": {
   "display_name": "Python 3 (ipykernel)",
   "language": "python",
   "name": "python3"
  },
  "language_info": {
   "codemirror_mode": {
    "name": "ipython",
    "version": 3
   },
   "file_extension": ".py",
   "mimetype": "text/x-python",
   "name": "python",
   "nbconvert_exporter": "python",
   "pygments_lexer": "ipython3",
   "version": "3.12.5"
  }
 },
 "nbformat": 4,
 "nbformat_minor": 5
}
