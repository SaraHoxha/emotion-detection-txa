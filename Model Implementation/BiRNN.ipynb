{
 "cells": [
  {
   "cell_type": "markdown",
   "metadata": {},
   "source": [
    "# BiRNN Implementation\n",
    "Author: Sara Hoxha"
   ]
  },
  {
   "cell_type": "code",
   "execution_count": 29,
   "metadata": {},
   "outputs": [],
   "source": [
    "import pandas as pd\n",
    "import torch\n",
    "import pandas as pd\n",
    "import pickle\n",
    "import tensorflow as tf\n",
    "from sklearn.preprocessing import LabelEncoder\n",
    "from tensorflow.keras.models import Sequential\n",
    "from tensorflow.keras.layers import Embedding, Dense, Dropout, Bidirectional, LSTM\n",
    "from keras.callbacks import EarlyStopping, ModelCheckpoint\n",
    "from sklearn.metrics import classification_report\n",
    "import numpy as np\n",
    "from tensorflow.keras import regularizers\n",
    "import keras_tuner as kt\n",
    "import keras\n",
    "from tensorflow.keras.utils import to_categorical, pad_sequences"
   ]
  },
  {
   "cell_type": "code",
   "execution_count": 30,
   "metadata": {},
   "outputs": [],
   "source": [
    "import os\n",
    "import sys\n",
    "\n",
    "original_sys_path = sys.path.copy()\n",
    "parent_dir = os.path.abspath(os.path.join(os.getcwd(), '../general_utils'))\n",
    "sys.path.append(parent_dir)\n",
    "\n",
    "from preprocessing import *\n",
    "from metrics_plot_utils import *\n",
    "sys.path = original_sys_path"
   ]
  },
  {
   "cell_type": "markdown",
   "metadata": {},
   "source": [
    "# Yangswei_85\n",
    "\n",
    "To use the Yangswei_85 dataset, run the cell below."
   ]
  },
  {
   "cell_type": "code",
   "execution_count": 31,
   "metadata": {},
   "outputs": [],
   "source": [
    "# Load training set\n",
    "df_train = pd.read_csv('data/train_yangswei_85.csv')  \n",
    "# Load test set\n",
    "test_df = pd.read_csv('data/test_yangswei_85.csv')\n",
    "dataset_name = 'Yangswei_85'"
   ]
  },
  {
   "cell_type": "markdown",
   "metadata": {},
   "source": [
    "# T5 \n",
    "To use the T5 dataset, run the cell below."
   ]
  },
  {
   "cell_type": "code",
   "execution_count": 21,
   "metadata": {},
   "outputs": [],
   "source": [
    "# Load training set\n",
    "df_train = pd.read_csv('data/train_t5.csv')  \n",
    "# Load test set\n",
    "test_df = pd.read_csv('data/test_t5.csv')\n",
    "dataset_name = 'T5'"
   ]
  },
  {
   "cell_type": "markdown",
   "metadata": {},
   "source": [
    "# Training and Validation"
   ]
  },
  {
   "cell_type": "markdown",
   "metadata": {},
   "source": [
    "## Training Data Preprocessing\n",
    "\n",
    "Firstly, we apply preprocessing (fixing contractions, setting all text to lowercase, removing non-alphanumeric characters) to the training text.\n",
    "\n",
    "Secondly, we tokenize and pad the training text using TensorFlow Keras TextVectorization. To reuse the tokenizer during the testing preprocessing, we save the tokenizer in a pickle file.\n",
    "\n",
    "Lastly, we encode the labels of the training dataset and save them to a npy file called 'label_classes.npy'."
   ]
  },
  {
   "cell_type": "code",
   "execution_count": 32,
   "metadata": {},
   "outputs": [],
   "source": [
    "#Preprocess training data\n",
    "df_train['text'].apply(preprocess).to_frame()\n",
    "\n",
    "# Tokenize and pad training data\n",
    "padded_sequences, tokenizer, vocab_size = tokenize_and_pad(df_train[['text']])\n",
    "\n",
    "#Save tokenizer in a pickle file to reuse\n",
    "with open(f'data/tokenizers/tokenizer_birnn_{dataset_name}.pickle', 'wb') as handle:\n",
    "    pickle.dump(tokenizer, handle, protocol=pickle.HIGHEST_PROTOCOL)\n",
    "\n",
    "# Set training data\n",
    "padded_train_data = padded_sequences\n",
    "\n",
    "#Encode labels and save classes in npy file\n",
    "label_encoder = LabelEncoder()\n",
    "label_encoder.fit(df_train['label'])\n",
    "np.save('data/label_classes.npy', label_encoder.classes_)\n",
    "train_labels = torch.tensor(label_encoder.transform(df_train['label']),dtype=torch.long)\n",
    "num_classes = len(label_encoder.classes_)\n",
    "train_labels_one_hot_encoded = to_categorical(train_labels)"
   ]
  },
  {
   "cell_type": "markdown",
   "metadata": {},
   "source": [
    "## Define BiRNN model & Tune Hyperparameters\n",
    "In the cell below, we define and tune a Bidirectional Recurrent Neural Network (BiRNN) model using Keras Tuner's Random Search. More specifically, it will be a BiLSTM to handle the vanishing gradient problem of RNN."
   ]
  },
  {
   "cell_type": "code",
   "execution_count": 23,
   "metadata": {},
   "outputs": [
    {
     "name": "stdout",
     "output_type": "stream",
     "text": [
      "Reloading Tuner from ./untitled_project/tuner0.json\n",
      "Best hyperparameters: {'output_dim': 128, 'num_layers': 1, 'lstm_units_0': 48, 'dropout_rate_0': 0.4}\n"
     ]
    }
   ],
   "source": [
    "#Define architecture of BiRNN\n",
    "def build_model(hp):\n",
    "    model = Sequential()\n",
    "    model.add(Embedding(input_dim=vocab_size, output_dim=hp.Choice('output_dim', [128])))#64, 128\n",
    "    # Set an adjustable number of LSTM layers (max 2)\n",
    "    num_layers = hp.Int('num_layers', min_value=1, max_value=1, step=1) #1, 2\n",
    "    for i in range(num_layers):\n",
    "        units = hp.Int(f'lstm_units_{i}', min_value=32, max_value=80, step=16) #32, 128, 32\n",
    "        model.add(\n",
    "            Bidirectional(\n",
    "                LSTM(\n",
    "                    units, \n",
    "                    return_sequences=(i < num_layers - 1),\n",
    "                    kernel_regularizer=regularizers.l2(6e-3) #1e-3\n",
    "                )\n",
    "            )\n",
    "        )\n",
    "        # Dropout for regularization\n",
    "        model.add(Dropout(hp.Float(f'dropout_rate_{i}', min_value=0.4, max_value=0.6, step=0.1))) # 0.2,  0.5, 0.1\n",
    "    # Output layer for classification\n",
    "    model.add(Dense(num_classes, activation='softmax'))\n",
    "    # Compile the model\n",
    "    model.compile(optimizer='adam', loss='categorical_crossentropy', metrics=['accuracy'])\n",
    "    return model\n",
    "\n",
    "#Create a keras tuner to find the best hyperparameters\n",
    "tuner = kt.RandomSearch(\n",
    "    build_model,\n",
    "    objective='val_accuracy',\n",
    "    max_trials=15,  #25\n",
    "    executions_per_trial=1\n",
    "\n",
    ")\n",
    "\n",
    "#Search for the best hyperparameters\n",
    "tuner.search(padded_train_data, train_labels_one_hot_encoded, epochs=15, validation_split=0.2, batch_size=32)\n",
    "\n",
    "#Get the best hyperparameters and print them\n",
    "best_hps = tuner.get_best_hyperparameters(num_trials=1)[0]\n",
    "print(\"Best hyperparameters:\", best_hps.values)"
   ]
  },
  {
   "cell_type": "markdown",
   "metadata": {},
   "source": [
    "## Train and Validate best model\n",
    "\n",
    "In the cell below, we conduct the training and validation of the tuned BiRNN model. We set two callbaks (Checkpoint & Early Stopping) to save the best model based on validation loss and stop training if the validation loss does not improve for a specified number of epochs (15) respectively. The traing and validation losses are extracted from the training history and plotted."
   ]
  },
  {
   "cell_type": "code",
   "execution_count": null,
   "metadata": {},
   "outputs": [
    {
     "name": "stdout",
     "output_type": "stream",
     "text": [
      "Start Training and Validation:\n",
      "\n",
      "Epoch 1/50\n",
      "\u001b[1m  75/1115\u001b[0m \u001b[32m━\u001b[0m\u001b[37m━━━━━━━━━━━━━━━━━━━\u001b[0m \u001b[1m49s\u001b[0m 48ms/step - accuracy: 0.5559 - loss: 2.6813"
     ]
    }
   ],
   "source": [
    "print(\"Start Training and Validation:\\n\")\n",
    "epochs = 50\n",
    "patience = 15\n",
    "batch_size = 64\n",
    "\n",
    "#Build BiRNN model using best hyperparameters\n",
    "birnn_model = build_model(best_hps)\n",
    "#Set path for best model\n",
    "best_model_file_name = f'models/best_birnn_model_{dataset_name}.keras'\n",
    "#Set callbacks\n",
    "model_checkpoint = ModelCheckpoint(best_model_file_name, monitor='val_loss', save_best_only=True, mode='min', verbose=1)\n",
    "early_stopping = keras.callbacks.EarlyStopping(monitor='val_loss', patience=patience)\n",
    "callbacks= [model_checkpoint, early_stopping]\n",
    "\n",
    "#Train BiRNN model\n",
    "history = birnn_model.fit(\n",
    "    padded_train_data, \n",
    "    train_labels_one_hot_encoded, \n",
    "    epochs=epochs, \n",
    "    batch_size=batch_size, \n",
    "    validation_split=0.2, \n",
    "    callbacks=callbacks, \n",
    "    verbose=1\n",
    ")\n",
    "\n",
    "# Extract training and validation losses\n",
    "train_losses = history.history['loss']\n",
    "val_losses = history.history['val_loss']\n",
    "actual_epochs =  len(train_losses)\n",
    "\n",
    "# Plot training and validation losses\n",
    "plot_losses(\"BiRNN\", dataset_name, train_losses, val_losses, actual_epochs, f'results/BiRNN/training_losses_birnn_{dataset_name}.png')\n"
   ]
  },
  {
   "cell_type": "markdown",
   "metadata": {},
   "source": [
    "# Test"
   ]
  },
  {
   "cell_type": "markdown",
   "metadata": {},
   "source": [
    "## Test Data Preprocessing\n",
    "Here we conduct the same preprocessing to the test data as done for the training data, using also the same tokenizer which we load from the saved pickle file."
   ]
  },
  {
   "cell_type": "code",
   "execution_count": 25,
   "metadata": {},
   "outputs": [],
   "source": [
    "# Preprocess test data\n",
    "test_df['text'].apply(preprocess).to_frame()  \n",
    "\n",
    "#Load tokenizer used in training\n",
    "with open(f'data/tokenizers/tokenizer_birnn_{dataset_name}.pickle', 'rb') as handle:\n",
    "    tokenizer = pickle.load(handle)\n",
    "\n",
    "# Tokenize and pad test data using the same tokenizer from training\n",
    "sequences = tokenizer(test_df['text'])\n",
    "padded_test_sequences = pad_sequences(sequences, maxlen=padded_train_data.shape[1], padding=\"post\", truncating=\"post\")\n",
    "\n",
    "# Set test data\n",
    "test_data = padded_sequences\n",
    "\n",
    "#Encode test labels by loading encoder used for training labels\n",
    "true_labels = test_df['label']\n",
    "label_classes = np.load('data/label_classes.npy', allow_pickle=True)\n",
    "label_encoder = LabelEncoder()\n",
    "label_encoder.classes_ = label_classes\n",
    "test_labels = torch.tensor(label_encoder.transform(true_labels))\n",
    "test_labels_one_hot_encoded = tf.keras.utils.to_categorical(test_labels, num_classes=num_classes)"
   ]
  },
  {
   "cell_type": "markdown",
   "metadata": {},
   "source": [
    "## Test best model on test data"
   ]
  },
  {
   "cell_type": "code",
   "execution_count": 26,
   "metadata": {},
   "outputs": [
    {
     "name": "stdout",
     "output_type": "stream",
     "text": [
      "\u001b[1m765/765\u001b[0m \u001b[32m━━━━━━━━━━━━━━━━━━━━\u001b[0m\u001b[37m\u001b[0m \u001b[1m8s\u001b[0m 10ms/step - accuracy: 0.7364 - loss: 0.7104\n",
      "Test Loss: 0.7181, Test Accuracy: 0.7324\n",
      "\u001b[1m765/765\u001b[0m \u001b[32m━━━━━━━━━━━━━━━━━━━━\u001b[0m\u001b[37m\u001b[0m \u001b[1m7s\u001b[0m 10ms/step\n"
     ]
    }
   ],
   "source": [
    "# Load the saved model\n",
    "best_model_file_name = f'models/best_birnn_model_{dataset_name}.keras'\n",
    "model = tf.keras.models.load_model(best_model_file_name)\n",
    "\n",
    "#Test model\n",
    "test_loss, test_accuracy = model.evaluate(padded_test_sequences, test_labels_one_hot_encoded, verbose=1)\n",
    "print(f\"Test Loss: {test_loss:.4f}, Test Accuracy: {test_accuracy:.4f}\")\n",
    "\n",
    "#Extract predictions and probabilities\n",
    "predictions_probabilities = model.predict(padded_test_sequences)\n",
    "predicted_classes = label_encoder.inverse_transform(np.argmax(predictions_probabilities, axis=1))\n",
    "#Decode true labels\n",
    "true_classes = label_encoder.inverse_transform(np.argmax(test_labels_one_hot_encoded, axis=1))"
   ]
  },
  {
   "cell_type": "markdown",
   "metadata": {},
   "source": [
    "## Compute metrics on model performance"
   ]
  },
  {
   "cell_type": "code",
   "execution_count": 27,
   "metadata": {},
   "outputs": [
    {
     "name": "stderr",
     "output_type": "stream",
     "text": [
      "/opt/anaconda3/envs/txa/lib/python3.10/site-packages/sklearn/metrics/_classification.py:1334: UndefinedMetricWarning: Precision is ill-defined and being set to 0.0 in labels with no predicted samples. Use `zero_division` parameter to control this behavior.\n",
      "  _warn_prf(average, modifier, msg_start, len(result))\n",
      "/opt/anaconda3/envs/txa/lib/python3.10/site-packages/sklearn/metrics/_classification.py:1334: UndefinedMetricWarning: Precision is ill-defined and being set to 0.0 in labels with no predicted samples. Use `zero_division` parameter to control this behavior.\n",
      "  _warn_prf(average, modifier, msg_start, len(result))\n"
     ]
    },
    {
     "name": "stdout",
     "output_type": "stream",
     "text": [
      "Metrics Dictionary saved to results/BiRNN/metrics_birnn_T5.txt\n",
      "Test Accuracy: 0.7324\n",
      "\n",
      "\n",
      "Macro Metrics\n",
      "Macro Precision: 0.5801\n",
      "Macro Recall: 0.5342\n",
      "Macro F1 Score: 0.5451\n",
      "\n",
      "\n",
      "Weighted Metrics\n",
      "Weighted Precision: 0.7392\n",
      "Weighted Recall: 0.7324\n",
      "Weighted F1 Score: 0.7305\n"
     ]
    },
    {
     "data": {
      "image/png": "[encoded data removed]",
      "text/plain": [
       "<Figure size 1000x800 with 2 Axes>"
      ]
     },
     "metadata": {},
     "output_type": "display_data"
    }
   ],
   "source": [
    "\n",
    "# Compute metrics\n",
    "metrics = compute_metrics(predicted_classes, true_classes, f'results/BiRNN/metrics_birnn_{dataset_name}.txt')\n",
    "print(f\"Test Accuracy: {metrics['accuracy']:.4f}\")\n",
    "print('\\n')\n",
    "print('Macro Metrics')\n",
    "print(f\"Macro Precision: {metrics['precision']:.4f}\")\n",
    "print(f\"Macro Recall: {metrics['recall']:.4f}\")\n",
    "print(f\"Macro F1 Score: {metrics['f1']:.4f}\")\n",
    "print('\\n')\n",
    "print('Weighted Metrics')\n",
    "print(f\"Weighted Precision: {metrics['precision_weighted']:.4f}\")\n",
    "print(f\"Weighted Recall: {metrics['recall_weighted']:.4f}\")\n",
    "print(f\"Weighted F1 Score: {metrics['f1_weighted']:.4f}\")\n",
    "\n",
    "# Plot confusion matrix\n",
    "plot_confusion_matrix(true_classes, predicted_classes, label_classes, f'results/BiRNN/confusion_matrix_birnn_{dataset_name}.png')"
   ]
  },
  {
   "cell_type": "code",
   "execution_count": 28,
   "metadata": {},
   "outputs": [
    {
     "name": "stdout",
     "output_type": "stream",
     "text": [
      "Classification Report:\n",
      "\n",
      "              precision    recall  f1-score   support\n",
      "\n",
      "       anger       0.66      0.79      0.72      7417\n",
      "        fear       0.64      0.52      0.57      3014\n",
      "         joy       0.85      0.75      0.80     10865\n",
      "        love       0.00      0.00      0.00       122\n",
      "     sadness       0.64      0.78      0.70      2804\n",
      "    surprise       0.68      0.36      0.47       252\n",
      "\n",
      "    accuracy                           0.73     24474\n",
      "   macro avg       0.58      0.53      0.55     24474\n",
      "weighted avg       0.74      0.73      0.73     24474\n",
      "\n"
     ]
    },
    {
     "name": "stderr",
     "output_type": "stream",
     "text": [
      "/opt/anaconda3/envs/txa/lib/python3.10/site-packages/sklearn/metrics/_classification.py:1334: UndefinedMetricWarning: Precision and F-score are ill-defined and being set to 0.0 in labels with no predicted samples. Use `zero_division` parameter to control this behavior.\n",
      "  _warn_prf(average, modifier, msg_start, len(result))\n",
      "/opt/anaconda3/envs/txa/lib/python3.10/site-packages/sklearn/metrics/_classification.py:1334: UndefinedMetricWarning: Precision and F-score are ill-defined and being set to 0.0 in labels with no predicted samples. Use `zero_division` parameter to control this behavior.\n",
      "  _warn_prf(average, modifier, msg_start, len(result))\n",
      "/opt/anaconda3/envs/txa/lib/python3.10/site-packages/sklearn/metrics/_classification.py:1334: UndefinedMetricWarning: Precision and F-score are ill-defined and being set to 0.0 in labels with no predicted samples. Use `zero_division` parameter to control this behavior.\n",
      "  _warn_prf(average, modifier, msg_start, len(result))\n"
     ]
    }
   ],
   "source": [
    "\n",
    "# Print classification report\n",
    "print('Classification Report:\\n')\n",
    "print(classification_report(true_classes, predicted_classes, target_names=label_classes))\n"
   ]
  }
 ],
 "metadata": {
  "kernelspec": {
   "display_name": "txa",
   "language": "python",
   "name": "python3"
  },
  "language_info": {
   "codemirror_mode": {
    "name": "ipython",
    "version": 3
   },
   "file_extension": ".py",
   "mimetype": "text/x-python",
   "name": "python",
   "nbconvert_exporter": "python",
   "pygments_lexer": "ipython3",
   "version": "3.10.13"
  }
 },
 "nbformat": 4,
 "nbformat_minor": 2
}
