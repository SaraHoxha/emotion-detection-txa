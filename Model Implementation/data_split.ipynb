{
 "cells": [
  {
   "cell_type": "markdown",
   "metadata": {},
   "source": [
    "# Split data into training and test sets\n",
    "\n",
    "Author: Sara Hoxha"
   ]
  },
  {
   "cell_type": "markdown",
   "metadata": {},
   "source": [
    "In this file, we split our labeled datasets (ground truths) into training and validation sets while ensuring that all emotion classes are proportionally represented in both sets. \n",
    "\n",
    "Using the train_test_split function from sklearn.model_selection, we split the data into training (80%) and validation (20%) sets while maintaining the class distribution.\n",
    "- stratify parameter ensures proportional representation of all classes.\n",
    "- random_state ensures reproducibility."
   ]
  },
  {
   "cell_type": "code",
   "execution_count": 2,
   "metadata": {},
   "outputs": [],
   "source": [
    "import pandas as pd\n",
    "from sklearn.model_selection import train_test_split"
   ]
  },
  {
   "cell_type": "markdown",
   "metadata": {},
   "source": [
    "# Yangswei 85"
   ]
  },
  {
   "cell_type": "code",
   "execution_count": 20,
   "metadata": {},
   "outputs": [],
   "source": [
    "df_yangswei_85 = pd.read_csv('../Pretrained_Model Implementation/labeled_data_reddit_text_yangswei_85.csv')  \n",
    "train_data = df_yangswei_85['text']\n",
    "train_labels = df_yangswei_85['predictions']\n",
    "\n",
    "X_train, X_test, Y_train, Y_test = train_test_split(train_data, train_labels, test_size=0.2, random_state=42, stratify=train_labels)\n",
    "train_df = pd.DataFrame({'text': X_train, 'label': Y_train})\n",
    "test_df = pd.DataFrame({'text': X_test, 'label': Y_test})\n",
    "\n",
    "train_df.to_csv('data/train_yangswei_85.csv',index=False)\n",
    "test_df.to_csv('data/test_yangswei_85.csv', index=False)\n"
   ]
  },
  {
   "cell_type": "markdown",
   "metadata": {},
   "source": [
    "# T5"
   ]
  },
  {
   "cell_type": "code",
   "execution_count": 4,
   "metadata": {},
   "outputs": [],
   "source": [
    "df_t5 = pd.read_csv('../Pretrained_Model Implementation/t5_model_final.csv')\n",
    "train_data = df_t5['text']\n",
    "train_labels = df_t5['predicted_label']\n",
    "\n",
    "X_train, X_test, Y_train, Y_test = train_test_split(train_data, train_labels, test_size=0.2, random_state=42, stratify=train_labels)\n",
    "train_df = pd.DataFrame({'text': X_train, 'label': Y_train})\n",
    "test_df = pd.DataFrame({'text': X_test, 'label': Y_test})\n",
    "\n",
    "train_df.to_csv('data/train_t5.csv',index=False)\n",
    "test_df.to_csv('data/test_t5.csv', index=False)"
   ]
  }
 ],
 "metadata": {
  "kernelspec": {
   "display_name": "txa",
   "language": "python",
   "name": "python3"
  },
  "language_info": {
   "codemirror_mode": {
    "name": "ipython",
    "version": 3
   },
   "file_extension": ".py",
   "mimetype": "text/x-python",
   "name": "python",
   "nbconvert_exporter": "python",
   "pygments_lexer": "ipython3",
   "version": "3.10.15"
  }
 },
 "nbformat": 4,
 "nbformat_minor": 2
}
