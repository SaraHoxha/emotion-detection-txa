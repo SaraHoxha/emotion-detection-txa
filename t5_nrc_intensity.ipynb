{
 "cells": [
  {
   "cell_type": "code",
   "execution_count": 15,
   "id": "395184e5-2860-4385-9361-3f8853cd7545",
   "metadata": {},
   "outputs": [],
   "source": [
    "import pandas as pd"
   ]
  },
  {
   "cell_type": "code",
   "execution_count": 16,
   "id": "858d0988-48fd-4214-a2aa-f00aa54ddc0a",
   "metadata": {},
   "outputs": [],
   "source": [
    "import numpy as np"
   ]
  },
  {
   "cell_type": "code",
   "execution_count": 17,
   "id": "ec38462f-1ca1-4666-bfa4-b578e5118536",
   "metadata": {},
   "outputs": [
    {
     "data": {
      "text/html": [
       "<div>\n",
       "<style scoped>\n",
       "    .dataframe tbody tr th:only-of-type {\n",
       "        vertical-align: middle;\n",
       "    }\n",
       "\n",
       "    .dataframe tbody tr th {\n",
       "        vertical-align: top;\n",
       "    }\n",
       "\n",
       "    .dataframe thead th {\n",
       "        text-align: right;\n",
       "    }\n",
       "</style>\n",
       "<table border=\"1\" class=\"dataframe\">\n",
       "  <thead>\n",
       "    <tr style=\"text-align: right;\">\n",
       "      <th></th>\n",
       "      <th>text</th>\n",
       "      <th>label</th>\n",
       "    </tr>\n",
       "  </thead>\n",
       "  <tbody>\n",
       "    <tr>\n",
       "      <th>0</th>\n",
       "      <td>Winter Blues and WFH question i think the sudd...</td>\n",
       "      <td>anger</td>\n",
       "    </tr>\n",
       "    <tr>\n",
       "      <th>1</th>\n",
       "      <td>New Workspace i saw some of your other posts a...</td>\n",
       "      <td>joy</td>\n",
       "    </tr>\n",
       "    <tr>\n",
       "      <th>2</th>\n",
       "      <td>Hard to mentally unwind… i go for a long walk ...</td>\n",
       "      <td>joy</td>\n",
       "    </tr>\n",
       "    <tr>\n",
       "      <th>3</th>\n",
       "      <td>Would you leave 150k for 90k depends on your e...</td>\n",
       "      <td>joy</td>\n",
       "    </tr>\n",
       "    <tr>\n",
       "      <th>4</th>\n",
       "      <td>There’s no magic formula to get remote work so...</td>\n",
       "      <td>fear</td>\n",
       "    </tr>\n",
       "  </tbody>\n",
       "</table>\n",
       "</div>"
      ],
      "text/plain": [
       "                                                text  label\n",
       "0  Winter Blues and WFH question i think the sudd...  anger\n",
       "1  New Workspace i saw some of your other posts a...    joy\n",
       "2  Hard to mentally unwind… i go for a long walk ...    joy\n",
       "3  Would you leave 150k for 90k depends on your e...    joy\n",
       "4  There’s no magic formula to get remote work so...   fear"
      ]
     },
     "execution_count": 17,
     "metadata": {},
     "output_type": "execute_result"
    }
   ],
   "source": [
    "test_data_path = 'test_t5.csv'\n",
    "t5_test = pd.read_csv(test_data_path)\n",
    "\n",
    "t5_test.head()"
   ]
  },
  {
   "cell_type": "code",
   "execution_count": 18,
   "id": "5c54ff2f-ef1c-45e8-a3e1-d95402bca4b7",
   "metadata": {},
   "outputs": [],
   "source": [
    "lexicon_path = 'NRC-Emotion-Intensity-Lexicon-v1.txt'\n",
    "def label_text(text, lexicon):\n",
    "    \n",
    "    # create the dict to store the score for each emotion\n",
    "    emotion_scores = {emotion: 0 for emotion in set(e for values in lexicon.values() for e in values)}\n",
    "    words = text.lower().split()\n",
    "    \n",
    "    # calculate the score of emotion based on lexicon\n",
    "    for word in words:\n",
    "        if word in lexicon:\n",
    "            for emotion, intensity in lexicon[word].items():\n",
    "                emotion_scores[emotion] += intensity\n",
    "                \n",
    "    # choose the emotion with the highest score\n",
    "    max_emotion = max(emotion_scores, key=emotion_scores.get)\n",
    "    return max_emotion"
   ]
  },
  {
   "cell_type": "code",
   "execution_count": 19,
   "id": "151202a2-7aec-4395-9d51-a7aae89409ca",
   "metadata": {},
   "outputs": [
    {
     "data": {
      "text/html": [
       "<div>\n",
       "<style scoped>\n",
       "    .dataframe tbody tr th:only-of-type {\n",
       "        vertical-align: middle;\n",
       "    }\n",
       "\n",
       "    .dataframe tbody tr th {\n",
       "        vertical-align: top;\n",
       "    }\n",
       "\n",
       "    .dataframe thead th {\n",
       "        text-align: right;\n",
       "    }\n",
       "</style>\n",
       "<table border=\"1\" class=\"dataframe\">\n",
       "  <thead>\n",
       "    <tr style=\"text-align: right;\">\n",
       "      <th></th>\n",
       "      <th>text</th>\n",
       "      <th>label</th>\n",
       "      <th>label_nrc</th>\n",
       "    </tr>\n",
       "  </thead>\n",
       "  <tbody>\n",
       "    <tr>\n",
       "      <th>0</th>\n",
       "      <td>Winter Blues and WFH question i think the sudd...</td>\n",
       "      <td>anger</td>\n",
       "      <td>surprise</td>\n",
       "    </tr>\n",
       "    <tr>\n",
       "      <th>1</th>\n",
       "      <td>New Workspace i saw some of your other posts a...</td>\n",
       "      <td>joy</td>\n",
       "      <td>joy</td>\n",
       "    </tr>\n",
       "    <tr>\n",
       "      <th>2</th>\n",
       "      <td>Hard to mentally unwind… i go for a long walk ...</td>\n",
       "      <td>joy</td>\n",
       "      <td>joy</td>\n",
       "    </tr>\n",
       "    <tr>\n",
       "      <th>3</th>\n",
       "      <td>Would you leave 150k for 90k depends on your e...</td>\n",
       "      <td>joy</td>\n",
       "      <td>sadness</td>\n",
       "    </tr>\n",
       "    <tr>\n",
       "      <th>4</th>\n",
       "      <td>There’s no magic formula to get remote work so...</td>\n",
       "      <td>fear</td>\n",
       "      <td>sadness</td>\n",
       "    </tr>\n",
       "  </tbody>\n",
       "</table>\n",
       "</div>"
      ],
      "text/plain": [
       "                                                text  label label_nrc\n",
       "0  Winter Blues and WFH question i think the sudd...  anger  surprise\n",
       "1  New Workspace i saw some of your other posts a...    joy       joy\n",
       "2  Hard to mentally unwind… i go for a long walk ...    joy       joy\n",
       "3  Would you leave 150k for 90k depends on your e...    joy   sadness\n",
       "4  There’s no magic formula to get remote work so...   fear   sadness"
      ]
     },
     "execution_count": 19,
     "metadata": {},
     "output_type": "execute_result"
    }
   ],
   "source": [
    "# predict label by NRC\n",
    "t5_test['label_nrc'] = t5_test['text'].apply(lambda x: label_text(x, nrc_lexicon))\n",
    "\n",
    "t5_test.head()"
   ]
  },
  {
   "cell_type": "code",
   "execution_count": 20,
   "id": "a3f458c0-ef02-4e30-a2d0-e7562b4fc5a3",
   "metadata": {},
   "outputs": [],
   "source": [
    "t5_test.to_csv('t5_nrc_inten_test.csv')"
   ]
  },
  {
   "cell_type": "code",
   "execution_count": 21,
   "id": "857c07f9-5cd7-4ba7-804e-94cd392b7511",
   "metadata": {},
   "outputs": [
    {
     "data": {
      "text/plain": [
       "label_nrc\n",
       "trust           8016\n",
       "joy             5864\n",
       "anticipation    5336\n",
       "sadness         1898\n",
       "fear            1624\n",
       "anger            930\n",
       "disgust          495\n",
       "surprise         311\n",
       "Name: count, dtype: int64"
      ]
     },
     "execution_count": 21,
     "metadata": {},
     "output_type": "execute_result"
    }
   ],
   "source": [
    "label_counts = t5_test['label_nrc'].value_counts()\n",
    "label_counts"
   ]
  },
  {
   "cell_type": "code",
   "execution_count": 22,
   "id": "0a0f9013-b6fc-43d3-a40e-0e8da550b0b4",
   "metadata": {},
   "outputs": [
    {
     "data": {
      "text/html": [
       "<div>\n",
       "<style scoped>\n",
       "    .dataframe tbody tr th:only-of-type {\n",
       "        vertical-align: middle;\n",
       "    }\n",
       "\n",
       "    .dataframe tbody tr th {\n",
       "        vertical-align: top;\n",
       "    }\n",
       "\n",
       "    .dataframe thead th {\n",
       "        text-align: right;\n",
       "    }\n",
       "</style>\n",
       "<table border=\"1\" class=\"dataframe\">\n",
       "  <thead>\n",
       "    <tr style=\"text-align: right;\">\n",
       "      <th></th>\n",
       "      <th>text</th>\n",
       "      <th>label</th>\n",
       "    </tr>\n",
       "  </thead>\n",
       "  <tbody>\n",
       "    <tr>\n",
       "      <th>0</th>\n",
       "      <td>Does anyone use their own computer question as...</td>\n",
       "      <td>joy</td>\n",
       "    </tr>\n",
       "    <tr>\n",
       "      <th>1</th>\n",
       "      <td>WFH is getting to be...ehhhh. thats not even a...</td>\n",
       "      <td>joy</td>\n",
       "    </tr>\n",
       "    <tr>\n",
       "      <th>2</th>\n",
       "      <td>everything is awesome …Are annual employee sat...</td>\n",
       "      <td>joy</td>\n",
       "    </tr>\n",
       "    <tr>\n",
       "      <th>3</th>\n",
       "      <td>Remote Workers Beware: US Entrepreneur Warns  ...</td>\n",
       "      <td>fear</td>\n",
       "    </tr>\n",
       "    <tr>\n",
       "      <th>4</th>\n",
       "      <td>Teams &amp; Slack Users: Please just ask the quest...</td>\n",
       "      <td>sadness</td>\n",
       "    </tr>\n",
       "  </tbody>\n",
       "</table>\n",
       "</div>"
      ],
      "text/plain": [
       "                                                text    label\n",
       "0  Does anyone use their own computer question as...      joy\n",
       "1  WFH is getting to be...ehhhh. thats not even a...      joy\n",
       "2  everything is awesome …Are annual employee sat...      joy\n",
       "3  Remote Workers Beware: US Entrepreneur Warns  ...     fear\n",
       "4  Teams & Slack Users: Please just ask the quest...  sadness"
      ]
     },
     "execution_count": 22,
     "metadata": {},
     "output_type": "execute_result"
    }
   ],
   "source": [
    "data = 'train_t5.csv'\n",
    "t5_train = pd.read_csv(data)\n",
    "\n",
    "t5_train.head()"
   ]
  },
  {
   "cell_type": "code",
   "execution_count": 23,
   "id": "aa520f59-ba35-4edc-9ece-83668fbee0e1",
   "metadata": {},
   "outputs": [
    {
     "data": {
      "text/html": [
       "<div>\n",
       "<style scoped>\n",
       "    .dataframe tbody tr th:only-of-type {\n",
       "        vertical-align: middle;\n",
       "    }\n",
       "\n",
       "    .dataframe tbody tr th {\n",
       "        vertical-align: top;\n",
       "    }\n",
       "\n",
       "    .dataframe thead th {\n",
       "        text-align: right;\n",
       "    }\n",
       "</style>\n",
       "<table border=\"1\" class=\"dataframe\">\n",
       "  <thead>\n",
       "    <tr style=\"text-align: right;\">\n",
       "      <th></th>\n",
       "      <th>text</th>\n",
       "      <th>label</th>\n",
       "      <th>label_nrc</th>\n",
       "    </tr>\n",
       "  </thead>\n",
       "  <tbody>\n",
       "    <tr>\n",
       "      <th>0</th>\n",
       "      <td>Does anyone use their own computer question as...</td>\n",
       "      <td>joy</td>\n",
       "      <td>anticipation</td>\n",
       "    </tr>\n",
       "    <tr>\n",
       "      <th>1</th>\n",
       "      <td>WFH is getting to be...ehhhh. thats not even a...</td>\n",
       "      <td>joy</td>\n",
       "      <td>fear</td>\n",
       "    </tr>\n",
       "    <tr>\n",
       "      <th>2</th>\n",
       "      <td>everything is awesome …Are annual employee sat...</td>\n",
       "      <td>joy</td>\n",
       "      <td>joy</td>\n",
       "    </tr>\n",
       "    <tr>\n",
       "      <th>3</th>\n",
       "      <td>Remote Workers Beware: US Entrepreneur Warns  ...</td>\n",
       "      <td>fear</td>\n",
       "      <td>joy</td>\n",
       "    </tr>\n",
       "    <tr>\n",
       "      <th>4</th>\n",
       "      <td>Teams &amp; Slack Users: Please just ask the quest...</td>\n",
       "      <td>sadness</td>\n",
       "      <td>anticipation</td>\n",
       "    </tr>\n",
       "  </tbody>\n",
       "</table>\n",
       "</div>"
      ],
      "text/plain": [
       "                                                text    label     label_nrc\n",
       "0  Does anyone use their own computer question as...      joy  anticipation\n",
       "1  WFH is getting to be...ehhhh. thats not even a...      joy          fear\n",
       "2  everything is awesome …Are annual employee sat...      joy           joy\n",
       "3  Remote Workers Beware: US Entrepreneur Warns  ...     fear           joy\n",
       "4  Teams & Slack Users: Please just ask the quest...  sadness  anticipation"
      ]
     },
     "execution_count": 23,
     "metadata": {},
     "output_type": "execute_result"
    }
   ],
   "source": [
    "# predict label nrc\n",
    "t5_train['label_nrc'] = t5_train['text'].apply(lambda x: label_text(x, nrc_lexicon))\n",
    "\n",
    "t5_train.head()"
   ]
  },
  {
   "cell_type": "code",
   "execution_count": 24,
   "id": "d54dab75-60c9-4066-93c5-bfe93de730b3",
   "metadata": {},
   "outputs": [],
   "source": [
    "t5_train.to_csv('t5_nrc_inten_train.csv')"
   ]
  },
  {
   "cell_type": "code",
   "execution_count": 25,
   "id": "2660dd40-3a70-464f-8786-5652d87dd2a2",
   "metadata": {},
   "outputs": [
    {
     "data": {
      "text/plain": [
       "label_nrc\n",
       "trust           31473\n",
       "joy             23609\n",
       "anticipation    21961\n",
       "sadness          7496\n",
       "fear             6451\n",
       "anger            3697\n",
       "disgust          1885\n",
       "surprise         1324\n",
       "Name: count, dtype: int64"
      ]
     },
     "execution_count": 25,
     "metadata": {},
     "output_type": "execute_result"
    }
   ],
   "source": [
    "label_counts_train = t5_train['label_nrc'].value_counts()\n",
    "label_counts_train"
   ]
  },
  {
   "cell_type": "code",
   "execution_count": null,
   "id": "390f5714-6244-4e35-96ea-72fa7303534a",
   "metadata": {},
   "outputs": [],
   "source": []
  }
 ],
 "metadata": {
  "kernelspec": {
   "display_name": "Python 3 (ipykernel)",
   "language": "python",
   "name": "python3"
  },
  "language_info": {
   "codemirror_mode": {
    "name": "ipython",
    "version": 3
   },
   "file_extension": ".py",
   "mimetype": "text/x-python",
   "name": "python",
   "nbconvert_exporter": "python",
   "pygments_lexer": "ipython3",
   "version": "3.12.5"
  }
 },
 "nbformat": 4,
 "nbformat_minor": 5
}
